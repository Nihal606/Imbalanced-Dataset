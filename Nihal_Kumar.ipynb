{
  "cells": [
    {
      "cell_type": "code",
      "execution_count": 1,
      "metadata": {
        "id": "QO89Z1fosfpg"
      },
      "outputs": [],
      "source": [
        "import pandas as pd\n",
        "import numpy as np\n",
        "import matplotlib.pyplot as plt\n",
        "from sklearn.preprocessing import StandardScaler\n",
        "import seaborn as sns\n",
        "from sklearn.metrics import confusion_matrix, classification_report\n",
        "from sklearn.preprocessing import OneHotEncoder\n",
        "from imblearn.ensemble import BalancedBaggingClassifier\n",
        "%matplotlib inline"
      ]
    },
    {
      "cell_type": "code",
      "execution_count": 2,
      "metadata": {},
      "outputs": [
        {
          "data": {
            "text/html": [
              "<div>\n",
              "<style scoped>\n",
              "    .dataframe tbody tr th:only-of-type {\n",
              "        vertical-align: middle;\n",
              "    }\n",
              "\n",
              "    .dataframe tbody tr th {\n",
              "        vertical-align: top;\n",
              "    }\n",
              "\n",
              "    .dataframe thead th {\n",
              "        text-align: right;\n",
              "    }\n",
              "</style>\n",
              "<table border=\"1\" class=\"dataframe\">\n",
              "  <thead>\n",
              "    <tr style=\"text-align: right;\">\n",
              "      <th></th>\n",
              "      <th>accountAgeDays</th>\n",
              "      <th>numItems</th>\n",
              "      <th>localTime</th>\n",
              "      <th>paymentMethod</th>\n",
              "      <th>paymentMethodAgeDays</th>\n",
              "      <th>Category</th>\n",
              "      <th>isWeekend</th>\n",
              "      <th>label</th>\n",
              "    </tr>\n",
              "  </thead>\n",
              "  <tbody>\n",
              "    <tr>\n",
              "      <th>0</th>\n",
              "      <td>29</td>\n",
              "      <td>1</td>\n",
              "      <td>4.745402</td>\n",
              "      <td>paypal</td>\n",
              "      <td>28.204861</td>\n",
              "      <td>shopping</td>\n",
              "      <td>0.0</td>\n",
              "      <td>0</td>\n",
              "    </tr>\n",
              "    <tr>\n",
              "      <th>1</th>\n",
              "      <td>725</td>\n",
              "      <td>1</td>\n",
              "      <td>4.742303</td>\n",
              "      <td>storecredit</td>\n",
              "      <td>0.000000</td>\n",
              "      <td>electronics</td>\n",
              "      <td>0.0</td>\n",
              "      <td>0</td>\n",
              "    </tr>\n",
              "    <tr>\n",
              "      <th>2</th>\n",
              "      <td>845</td>\n",
              "      <td>1</td>\n",
              "      <td>4.921318</td>\n",
              "      <td>creditcard</td>\n",
              "      <td>0.000000</td>\n",
              "      <td>food</td>\n",
              "      <td>1.0</td>\n",
              "      <td>0</td>\n",
              "    </tr>\n",
              "    <tr>\n",
              "      <th>3</th>\n",
              "      <td>503</td>\n",
              "      <td>1</td>\n",
              "      <td>4.886641</td>\n",
              "      <td>creditcard</td>\n",
              "      <td>0.000000</td>\n",
              "      <td>electronics</td>\n",
              "      <td>1.0</td>\n",
              "      <td>0</td>\n",
              "    </tr>\n",
              "    <tr>\n",
              "      <th>4</th>\n",
              "      <td>2000</td>\n",
              "      <td>1</td>\n",
              "      <td>5.040929</td>\n",
              "      <td>creditcard</td>\n",
              "      <td>0.000000</td>\n",
              "      <td>shopping</td>\n",
              "      <td>0.0</td>\n",
              "      <td>0</td>\n",
              "    </tr>\n",
              "    <tr>\n",
              "      <th>...</th>\n",
              "      <td>...</td>\n",
              "      <td>...</td>\n",
              "      <td>...</td>\n",
              "      <td>...</td>\n",
              "      <td>...</td>\n",
              "      <td>...</td>\n",
              "      <td>...</td>\n",
              "      <td>...</td>\n",
              "    </tr>\n",
              "    <tr>\n",
              "      <th>39216</th>\n",
              "      <td>986</td>\n",
              "      <td>1</td>\n",
              "      <td>4.836982</td>\n",
              "      <td>creditcard</td>\n",
              "      <td>0.000000</td>\n",
              "      <td>shopping</td>\n",
              "      <td>0.0</td>\n",
              "      <td>0</td>\n",
              "    </tr>\n",
              "    <tr>\n",
              "      <th>39217</th>\n",
              "      <td>1647</td>\n",
              "      <td>1</td>\n",
              "      <td>4.876771</td>\n",
              "      <td>creditcard</td>\n",
              "      <td>377.930556</td>\n",
              "      <td>shopping</td>\n",
              "      <td>0.0</td>\n",
              "      <td>0</td>\n",
              "    </tr>\n",
              "    <tr>\n",
              "      <th>39218</th>\n",
              "      <td>1591</td>\n",
              "      <td>1</td>\n",
              "      <td>4.742303</td>\n",
              "      <td>creditcard</td>\n",
              "      <td>0.000000</td>\n",
              "      <td>shopping</td>\n",
              "      <td>1.0</td>\n",
              "      <td>0</td>\n",
              "    </tr>\n",
              "    <tr>\n",
              "      <th>39219</th>\n",
              "      <td>237</td>\n",
              "      <td>1</td>\n",
              "      <td>4.921318</td>\n",
              "      <td>creditcard</td>\n",
              "      <td>236.082639</td>\n",
              "      <td>shopping</td>\n",
              "      <td>1.0</td>\n",
              "      <td>0</td>\n",
              "    </tr>\n",
              "    <tr>\n",
              "      <th>39220</th>\n",
              "      <td>272</td>\n",
              "      <td>1</td>\n",
              "      <td>5.040929</td>\n",
              "      <td>paypal</td>\n",
              "      <td>0.000694</td>\n",
              "      <td>shopping</td>\n",
              "      <td>0.0</td>\n",
              "      <td>0</td>\n",
              "    </tr>\n",
              "  </tbody>\n",
              "</table>\n",
              "<p>39221 rows × 8 columns</p>\n",
              "</div>"
            ],
            "text/plain": [
              "       accountAgeDays  numItems  localTime paymentMethod  \\\n",
              "0                  29         1   4.745402        paypal   \n",
              "1                 725         1   4.742303   storecredit   \n",
              "2                 845         1   4.921318    creditcard   \n",
              "3                 503         1   4.886641    creditcard   \n",
              "4                2000         1   5.040929    creditcard   \n",
              "...               ...       ...        ...           ...   \n",
              "39216             986         1   4.836982    creditcard   \n",
              "39217            1647         1   4.876771    creditcard   \n",
              "39218            1591         1   4.742303    creditcard   \n",
              "39219             237         1   4.921318    creditcard   \n",
              "39220             272         1   5.040929        paypal   \n",
              "\n",
              "       paymentMethodAgeDays     Category  isWeekend  label  \n",
              "0                 28.204861     shopping        0.0      0  \n",
              "1                  0.000000  electronics        0.0      0  \n",
              "2                  0.000000         food        1.0      0  \n",
              "3                  0.000000  electronics        1.0      0  \n",
              "4                  0.000000     shopping        0.0      0  \n",
              "...                     ...          ...        ...    ...  \n",
              "39216              0.000000     shopping        0.0      0  \n",
              "39217            377.930556     shopping        0.0      0  \n",
              "39218              0.000000     shopping        1.0      0  \n",
              "39219            236.082639     shopping        1.0      0  \n",
              "39220              0.000694     shopping        0.0      0  \n",
              "\n",
              "[39221 rows x 8 columns]"
            ]
          },
          "execution_count": 2,
          "metadata": {},
          "output_type": "execute_result"
        }
      ],
      "source": [
        "df= pd.read_csv('Payment_Data.csv')\n",
        "df"
      ]
    },
    {
      "cell_type": "code",
      "execution_count": 3,
      "metadata": {},
      "outputs": [
        {
          "data": {
            "text/plain": [
              "(39221, 8)"
            ]
          },
          "execution_count": 3,
          "metadata": {},
          "output_type": "execute_result"
        }
      ],
      "source": [
        "df.shape"
      ]
    },
    {
      "cell_type": "code",
      "execution_count": 4,
      "metadata": {},
      "outputs": [
        {
          "data": {
            "text/plain": [
              "0    38661\n",
              "1      560\n",
              "Name: label, dtype: int64"
            ]
          },
          "execution_count": 4,
          "metadata": {},
          "output_type": "execute_result"
        }
      ],
      "source": [
        "df.label.value_counts()"
      ]
    },
    {
      "cell_type": "code",
      "execution_count": 5,
      "metadata": {},
      "outputs": [
        {
          "data": {
            "text/plain": [
              "shopping       13328\n",
              "food           12964\n",
              "electronics    12834\n",
              "Name: Category, dtype: int64"
            ]
          },
          "execution_count": 5,
          "metadata": {},
          "output_type": "execute_result"
        }
      ],
      "source": [
        "df.Category.value_counts()"
      ]
    },
    {
      "cell_type": "code",
      "execution_count": 6,
      "metadata": {},
      "outputs": [
        {
          "data": {
            "text/plain": [
              "creditcard     28004\n",
              "paypal          9303\n",
              "storecredit     1914\n",
              "Name: paymentMethod, dtype: int64"
            ]
          },
          "execution_count": 6,
          "metadata": {},
          "output_type": "execute_result"
        }
      ],
      "source": [
        "df.paymentMethod.value_counts()"
      ]
    },
    {
      "cell_type": "code",
      "execution_count": 7,
      "metadata": {},
      "outputs": [
        {
          "data": {
            "text/html": [
              "<div>\n",
              "<style scoped>\n",
              "    .dataframe tbody tr th:only-of-type {\n",
              "        vertical-align: middle;\n",
              "    }\n",
              "\n",
              "    .dataframe tbody tr th {\n",
              "        vertical-align: top;\n",
              "    }\n",
              "\n",
              "    .dataframe thead th {\n",
              "        text-align: right;\n",
              "    }\n",
              "</style>\n",
              "<table border=\"1\" class=\"dataframe\">\n",
              "  <thead>\n",
              "    <tr style=\"text-align: right;\">\n",
              "      <th></th>\n",
              "      <th>accountAgeDays</th>\n",
              "      <th>numItems</th>\n",
              "      <th>localTime</th>\n",
              "      <th>paymentMethodAgeDays</th>\n",
              "      <th>isWeekend</th>\n",
              "      <th>label</th>\n",
              "    </tr>\n",
              "  </thead>\n",
              "  <tbody>\n",
              "    <tr>\n",
              "      <th>count</th>\n",
              "      <td>39221.000000</td>\n",
              "      <td>39221.000000</td>\n",
              "      <td>39221.000000</td>\n",
              "      <td>39221.000000</td>\n",
              "      <td>38661.000000</td>\n",
              "      <td>39221.000000</td>\n",
              "    </tr>\n",
              "    <tr>\n",
              "      <th>mean</th>\n",
              "      <td>857.563984</td>\n",
              "      <td>1.084751</td>\n",
              "      <td>4.748232</td>\n",
              "      <td>122.641326</td>\n",
              "      <td>0.499547</td>\n",
              "      <td>0.014278</td>\n",
              "    </tr>\n",
              "    <tr>\n",
              "      <th>std</th>\n",
              "      <td>804.788212</td>\n",
              "      <td>0.566899</td>\n",
              "      <td>0.389360</td>\n",
              "      <td>283.569177</td>\n",
              "      <td>0.500006</td>\n",
              "      <td>0.118636</td>\n",
              "    </tr>\n",
              "    <tr>\n",
              "      <th>min</th>\n",
              "      <td>1.000000</td>\n",
              "      <td>1.000000</td>\n",
              "      <td>0.421214</td>\n",
              "      <td>0.000000</td>\n",
              "      <td>0.000000</td>\n",
              "      <td>0.000000</td>\n",
              "    </tr>\n",
              "    <tr>\n",
              "      <th>25%</th>\n",
              "      <td>72.000000</td>\n",
              "      <td>1.000000</td>\n",
              "      <td>4.742303</td>\n",
              "      <td>0.000000</td>\n",
              "      <td>0.000000</td>\n",
              "      <td>0.000000</td>\n",
              "    </tr>\n",
              "    <tr>\n",
              "      <th>50%</th>\n",
              "      <td>603.000000</td>\n",
              "      <td>1.000000</td>\n",
              "      <td>4.886641</td>\n",
              "      <td>0.012500</td>\n",
              "      <td>0.000000</td>\n",
              "      <td>0.000000</td>\n",
              "    </tr>\n",
              "    <tr>\n",
              "      <th>75%</th>\n",
              "      <td>1804.000000</td>\n",
              "      <td>1.000000</td>\n",
              "      <td>4.962055</td>\n",
              "      <td>87.510417</td>\n",
              "      <td>1.000000</td>\n",
              "      <td>0.000000</td>\n",
              "    </tr>\n",
              "    <tr>\n",
              "      <th>max</th>\n",
              "      <td>2000.000000</td>\n",
              "      <td>29.000000</td>\n",
              "      <td>5.040929</td>\n",
              "      <td>1999.580556</td>\n",
              "      <td>1.000000</td>\n",
              "      <td>1.000000</td>\n",
              "    </tr>\n",
              "  </tbody>\n",
              "</table>\n",
              "</div>"
            ],
            "text/plain": [
              "       accountAgeDays      numItems     localTime  paymentMethodAgeDays  \\\n",
              "count    39221.000000  39221.000000  39221.000000          39221.000000   \n",
              "mean       857.563984      1.084751      4.748232            122.641326   \n",
              "std        804.788212      0.566899      0.389360            283.569177   \n",
              "min          1.000000      1.000000      0.421214              0.000000   \n",
              "25%         72.000000      1.000000      4.742303              0.000000   \n",
              "50%        603.000000      1.000000      4.886641              0.012500   \n",
              "75%       1804.000000      1.000000      4.962055             87.510417   \n",
              "max       2000.000000     29.000000      5.040929           1999.580556   \n",
              "\n",
              "          isWeekend         label  \n",
              "count  38661.000000  39221.000000  \n",
              "mean       0.499547      0.014278  \n",
              "std        0.500006      0.118636  \n",
              "min        0.000000      0.000000  \n",
              "25%        0.000000      0.000000  \n",
              "50%        0.000000      0.000000  \n",
              "75%        1.000000      0.000000  \n",
              "max        1.000000      1.000000  "
            ]
          },
          "execution_count": 7,
          "metadata": {},
          "output_type": "execute_result"
        }
      ],
      "source": [
        "df.describe()"
      ]
    },
    {
      "cell_type": "code",
      "execution_count": 8,
      "metadata": {},
      "outputs": [
        {
          "name": "stdout",
          "output_type": "stream",
          "text": [
            "<class 'pandas.core.frame.DataFrame'>\n",
            "RangeIndex: 39221 entries, 0 to 39220\n",
            "Data columns (total 8 columns):\n",
            " #   Column                Non-Null Count  Dtype  \n",
            "---  ------                --------------  -----  \n",
            " 0   accountAgeDays        39221 non-null  int64  \n",
            " 1   numItems              39221 non-null  int64  \n",
            " 2   localTime             39221 non-null  float64\n",
            " 3   paymentMethod         39221 non-null  object \n",
            " 4   paymentMethodAgeDays  39221 non-null  float64\n",
            " 5   Category              39126 non-null  object \n",
            " 6   isWeekend             38661 non-null  float64\n",
            " 7   label                 39221 non-null  int64  \n",
            "dtypes: float64(3), int64(3), object(2)\n",
            "memory usage: 2.4+ MB\n"
          ]
        }
      ],
      "source": [
        "df.info()"
      ]
    },
    {
      "cell_type": "code",
      "execution_count": 9,
      "metadata": {},
      "outputs": [
        {
          "data": {
            "text/plain": [
              "0    87\n",
              "1     8\n",
              "Name: label, dtype: int64"
            ]
          },
          "execution_count": 9,
          "metadata": {},
          "output_type": "execute_result"
        }
      ],
      "source": [
        "df1=df[ (df[\"Category\"].isnull()==True)]\n",
        "df1.label.value_counts()"
      ]
    },
    {
      "cell_type": "code",
      "execution_count": 10,
      "metadata": {},
      "outputs": [
        {
          "name": "stdout",
          "output_type": "stream",
          "text": [
            "<class 'pandas.core.frame.DataFrame'>\n",
            "RangeIndex: 39221 entries, 0 to 39220\n",
            "Data columns (total 7 columns):\n",
            " #   Column                Non-Null Count  Dtype  \n",
            "---  ------                --------------  -----  \n",
            " 0   accountAgeDays        39221 non-null  int64  \n",
            " 1   numItems              39221 non-null  int64  \n",
            " 2   localTime             39221 non-null  float64\n",
            " 3   paymentMethod         39221 non-null  object \n",
            " 4   paymentMethodAgeDays  39221 non-null  float64\n",
            " 5   Category              39126 non-null  object \n",
            " 6   label                 39221 non-null  int64  \n",
            "dtypes: float64(2), int64(3), object(2)\n",
            "memory usage: 2.1+ MB\n"
          ]
        }
      ],
      "source": [
        "\n",
        "df.drop([\"isWeekend\"],axis=1,inplace=True)\n",
        "df.info()\n",
        "\n"
      ]
    },
    {
      "cell_type": "code",
      "execution_count": 11,
      "metadata": {},
      "outputs": [],
      "source": [
        "df.dropna(inplace=True)"
      ]
    },
    {
      "cell_type": "code",
      "execution_count": 12,
      "metadata": {},
      "outputs": [],
      "source": [
        "categorical_columns = df.select_dtypes(include=['object']).columns.tolist()\n",
        "\n",
        "#Initialize OneHotEncoder\n",
        "encoder = OneHotEncoder(sparse_output=False)\n",
        "\n",
        "# Apply one-hot encoding to the categorical columns\n",
        "one_hot_encoded = encoder.fit_transform(df[categorical_columns])\n",
        "\n",
        "#Create a DataFrame with the one-hot encoded columns\n",
        "#We use get_feature_names_out() to get the column names for the encoded data\n",
        "one_hot_df = pd.DataFrame(one_hot_encoded, columns=encoder.get_feature_names_out(categorical_columns))\n",
        "\n",
        "# Concatenate the one-hot encoded dataframe with the original dataframe\n",
        "df_encoded = pd.concat([df, one_hot_df], axis=1)\n",
        "\n",
        "# Drop the original categorical columns\n",
        "df_encoded.drop([\"Category\",\"paymentMethod\"], axis=1,inplace=True)\n",
        "\n",
        "# Display the resulting dataframe\n",
        "df_encoded.dropna(inplace=True)\n"
      ]
    },
    {
      "cell_type": "code",
      "execution_count": 13,
      "metadata": {},
      "outputs": [
        {
          "data": {
            "text/plain": [
              "0.0    38480\n",
              "1.0      552\n",
              "Name: label, dtype: int64"
            ]
          },
          "execution_count": 13,
          "metadata": {},
          "output_type": "execute_result"
        }
      ],
      "source": [
        "df_encoded.label.value_counts()"
      ]
    },
    {
      "cell_type": "code",
      "execution_count": 14,
      "metadata": {},
      "outputs": [
        {
          "data": {
            "text/html": [
              "<div>\n",
              "<style scoped>\n",
              "    .dataframe tbody tr th:only-of-type {\n",
              "        vertical-align: middle;\n",
              "    }\n",
              "\n",
              "    .dataframe tbody tr th {\n",
              "        vertical-align: top;\n",
              "    }\n",
              "\n",
              "    .dataframe thead th {\n",
              "        text-align: right;\n",
              "    }\n",
              "</style>\n",
              "<table border=\"1\" class=\"dataframe\">\n",
              "  <thead>\n",
              "    <tr style=\"text-align: right;\">\n",
              "      <th></th>\n",
              "      <th>accountAgeDays</th>\n",
              "      <th>numItems</th>\n",
              "      <th>localTime</th>\n",
              "      <th>paymentMethodAgeDays</th>\n",
              "      <th>label</th>\n",
              "      <th>paymentMethod_creditcard</th>\n",
              "      <th>paymentMethod_paypal</th>\n",
              "      <th>paymentMethod_storecredit</th>\n",
              "      <th>Category_electronics</th>\n",
              "      <th>Category_food</th>\n",
              "      <th>Category_shopping</th>\n",
              "    </tr>\n",
              "  </thead>\n",
              "  <tbody>\n",
              "    <tr>\n",
              "      <th>count</th>\n",
              "      <td>3.903200e+04</td>\n",
              "      <td>3.903200e+04</td>\n",
              "      <td>39032.000000</td>\n",
              "      <td>3.903200e+04</td>\n",
              "      <td>39032.000000</td>\n",
              "      <td>39032.000000</td>\n",
              "      <td>39032.000000</td>\n",
              "      <td>39032.000000</td>\n",
              "      <td>39032.000000</td>\n",
              "      <td>39032.000000</td>\n",
              "      <td>39032.000000</td>\n",
              "    </tr>\n",
              "    <tr>\n",
              "      <th>mean</th>\n",
              "      <td>4.030958e-16</td>\n",
              "      <td>-1.283845e-16</td>\n",
              "      <td>4.748370</td>\n",
              "      <td>-8.505983e-16</td>\n",
              "      <td>0.014142</td>\n",
              "      <td>0.714106</td>\n",
              "      <td>0.236934</td>\n",
              "      <td>0.048960</td>\n",
              "      <td>0.328218</td>\n",
              "      <td>0.331497</td>\n",
              "      <td>0.340285</td>\n",
              "    </tr>\n",
              "    <tr>\n",
              "      <th>std</th>\n",
              "      <td>1.000013e+00</td>\n",
              "      <td>1.000013e+00</td>\n",
              "      <td>0.389058</td>\n",
              "      <td>1.000013e+00</td>\n",
              "      <td>0.118079</td>\n",
              "      <td>0.451845</td>\n",
              "      <td>0.425207</td>\n",
              "      <td>0.215787</td>\n",
              "      <td>0.469571</td>\n",
              "      <td>0.470757</td>\n",
              "      <td>0.473811</td>\n",
              "    </tr>\n",
              "    <tr>\n",
              "      <th>min</th>\n",
              "      <td>-1.064204e+00</td>\n",
              "      <td>-1.491707e-01</td>\n",
              "      <td>0.421214</td>\n",
              "      <td>-4.326221e-01</td>\n",
              "      <td>0.000000</td>\n",
              "      <td>0.000000</td>\n",
              "      <td>0.000000</td>\n",
              "      <td>0.000000</td>\n",
              "      <td>0.000000</td>\n",
              "      <td>0.000000</td>\n",
              "      <td>0.000000</td>\n",
              "    </tr>\n",
              "    <tr>\n",
              "      <th>25%</th>\n",
              "      <td>-9.759931e-01</td>\n",
              "      <td>-1.491707e-01</td>\n",
              "      <td>4.742303</td>\n",
              "      <td>-4.326221e-01</td>\n",
              "      <td>0.000000</td>\n",
              "      <td>0.000000</td>\n",
              "      <td>0.000000</td>\n",
              "      <td>0.000000</td>\n",
              "      <td>0.000000</td>\n",
              "      <td>0.000000</td>\n",
              "      <td>0.000000</td>\n",
              "    </tr>\n",
              "    <tr>\n",
              "      <th>50%</th>\n",
              "      <td>-3.162767e-01</td>\n",
              "      <td>-1.491707e-01</td>\n",
              "      <td>4.886641</td>\n",
              "      <td>-4.325780e-01</td>\n",
              "      <td>0.000000</td>\n",
              "      <td>1.000000</td>\n",
              "      <td>0.000000</td>\n",
              "      <td>0.000000</td>\n",
              "      <td>0.000000</td>\n",
              "      <td>0.000000</td>\n",
              "      <td>0.000000</td>\n",
              "    </tr>\n",
              "    <tr>\n",
              "      <th>75%</th>\n",
              "      <td>1.177092e+00</td>\n",
              "      <td>-1.491707e-01</td>\n",
              "      <td>4.962055</td>\n",
              "      <td>-1.238150e-01</td>\n",
              "      <td>0.000000</td>\n",
              "      <td>1.000000</td>\n",
              "      <td>0.000000</td>\n",
              "      <td>0.000000</td>\n",
              "      <td>1.000000</td>\n",
              "      <td>1.000000</td>\n",
              "      <td>1.000000</td>\n",
              "    </tr>\n",
              "    <tr>\n",
              "      <th>max</th>\n",
              "      <td>1.419361e+00</td>\n",
              "      <td>4.916360e+01</td>\n",
              "      <td>5.040929</td>\n",
              "      <td>6.621883e+00</td>\n",
              "      <td>1.000000</td>\n",
              "      <td>1.000000</td>\n",
              "      <td>1.000000</td>\n",
              "      <td>1.000000</td>\n",
              "      <td>1.000000</td>\n",
              "      <td>1.000000</td>\n",
              "      <td>1.000000</td>\n",
              "    </tr>\n",
              "  </tbody>\n",
              "</table>\n",
              "</div>"
            ],
            "text/plain": [
              "       accountAgeDays      numItems     localTime  paymentMethodAgeDays  \\\n",
              "count    3.903200e+04  3.903200e+04  39032.000000          3.903200e+04   \n",
              "mean     4.030958e-16 -1.283845e-16      4.748370         -8.505983e-16   \n",
              "std      1.000013e+00  1.000013e+00      0.389058          1.000013e+00   \n",
              "min     -1.064204e+00 -1.491707e-01      0.421214         -4.326221e-01   \n",
              "25%     -9.759931e-01 -1.491707e-01      4.742303         -4.326221e-01   \n",
              "50%     -3.162767e-01 -1.491707e-01      4.886641         -4.325780e-01   \n",
              "75%      1.177092e+00 -1.491707e-01      4.962055         -1.238150e-01   \n",
              "max      1.419361e+00  4.916360e+01      5.040929          6.621883e+00   \n",
              "\n",
              "              label  paymentMethod_creditcard  paymentMethod_paypal  \\\n",
              "count  39032.000000              39032.000000          39032.000000   \n",
              "mean       0.014142                  0.714106              0.236934   \n",
              "std        0.118079                  0.451845              0.425207   \n",
              "min        0.000000                  0.000000              0.000000   \n",
              "25%        0.000000                  0.000000              0.000000   \n",
              "50%        0.000000                  1.000000              0.000000   \n",
              "75%        0.000000                  1.000000              0.000000   \n",
              "max        1.000000                  1.000000              1.000000   \n",
              "\n",
              "       paymentMethod_storecredit  Category_electronics  Category_food  \\\n",
              "count               39032.000000          39032.000000   39032.000000   \n",
              "mean                    0.048960              0.328218       0.331497   \n",
              "std                     0.215787              0.469571       0.470757   \n",
              "min                     0.000000              0.000000       0.000000   \n",
              "25%                     0.000000              0.000000       0.000000   \n",
              "50%                     0.000000              0.000000       0.000000   \n",
              "75%                     0.000000              1.000000       1.000000   \n",
              "max                     1.000000              1.000000       1.000000   \n",
              "\n",
              "       Category_shopping  \n",
              "count       39032.000000  \n",
              "mean            0.340285  \n",
              "std             0.473811  \n",
              "min             0.000000  \n",
              "25%             0.000000  \n",
              "50%             0.000000  \n",
              "75%             1.000000  \n",
              "max             1.000000  "
            ]
          },
          "execution_count": 14,
          "metadata": {},
          "output_type": "execute_result"
        }
      ],
      "source": [
        "standard_scaler = StandardScaler()\n",
        "columns_to_normalize = ['accountAgeDays','numItems', 'paymentMethodAgeDays']\n",
        "data_standard_scaled = standard_scaler.fit_transform(df_encoded[columns_to_normalize])\n",
        "df_scaled = pd.DataFrame(data_standard_scaled, columns=columns_to_normalize, index=df_encoded.index)\n",
        "df_encoded[columns_to_normalize] = df_scaled\n",
        "df_encoded.describe()"
      ]
    },
    {
      "cell_type": "code",
      "execution_count": 15,
      "metadata": {},
      "outputs": [
        {
          "name": "stdout",
          "output_type": "stream",
          "text": [
            "<class 'pandas.core.frame.DataFrame'>\n",
            "Int64Index: 39032 entries, 0 to 39125\n",
            "Data columns (total 10 columns):\n",
            " #   Column                     Non-Null Count  Dtype  \n",
            "---  ------                     --------------  -----  \n",
            " 0   accountAgeDays             39032 non-null  float64\n",
            " 1   numItems                   39032 non-null  float64\n",
            " 2   localTime                  39032 non-null  float64\n",
            " 3   paymentMethodAgeDays       39032 non-null  float64\n",
            " 4   paymentMethod_creditcard   39032 non-null  float64\n",
            " 5   paymentMethod_paypal       39032 non-null  float64\n",
            " 6   paymentMethod_storecredit  39032 non-null  float64\n",
            " 7   Category_electronics       39032 non-null  float64\n",
            " 8   Category_food              39032 non-null  float64\n",
            " 9   Category_shopping          39032 non-null  float64\n",
            "dtypes: float64(10)\n",
            "memory usage: 3.3 MB\n"
          ]
        }
      ],
      "source": [
        "x=df_encoded.loc[:,df_encoded.columns != 'label']\n",
        "y=df_encoded.loc[:,df_encoded.columns=='label']\n",
        "x.info()"
      ]
    },
    {
      "cell_type": "code",
      "execution_count": 16,
      "metadata": {},
      "outputs": [],
      "source": [
        "from sklearn.model_selection import train_test_split\n",
        "X_train, X_test, y_train, y_test = train_test_split(x, y, test_size=0.3, random_state=42)"
      ]
    },
    {
      "cell_type": "code",
      "execution_count": 17,
      "metadata": {},
      "outputs": [
        {
          "name": "stdout",
          "output_type": "stream",
          "text": [
            "Class distribution before SMOTE: Counter({'label': 1})\n",
            "Class distribution after SMOTE: Counter({'label': 1})\n"
          ]
        },
        {
          "data": {
            "text/plain": [
              "label\n",
              "0.0      26913\n",
              "1.0      26913\n",
              "dtype: int64"
            ]
          },
          "execution_count": 17,
          "metadata": {},
          "output_type": "execute_result"
        }
      ],
      "source": [
        "\n",
        "from imblearn.over_sampling import SMOTE\n",
        "from collections import Counter\n",
        "\n",
        "# Display class distribution before SMOTE\n",
        "print(\"Class distribution before SMOTE:\", Counter(y_train))\n",
        " \n",
        "# Apply SMOTE to oversample the minority class\n",
        "smote = SMOTE(sampling_strategy='auto', random_state=42)\n",
        "X_train_resampled, y_train_resampled = smote.fit_resample(X_train, y_train)\n",
        " \n",
        "# Display class distribution after SMOTE\n",
        "print(\"Class distribution after SMOTE:\", Counter(y_train_resampled))\n",
        "y_train_resampled.value_counts()"
      ]
    },
    {
      "cell_type": "code",
      "execution_count": 18,
      "metadata": {},
      "outputs": [
        {
          "name": "stderr",
          "output_type": "stream",
          "text": [
            "c:\\Users\\lenovo\\anaconda3\\lib\\site-packages\\sklearn\\svm\\_base.py:1235: ConvergenceWarning: Liblinear failed to converge, increase the number of iterations.\n",
            "  warnings.warn(\n",
            "c:\\Users\\lenovo\\anaconda3\\lib\\site-packages\\sklearn\\svm\\_base.py:1235: ConvergenceWarning: Liblinear failed to converge, increase the number of iterations.\n",
            "  warnings.warn(\n",
            "c:\\Users\\lenovo\\anaconda3\\lib\\site-packages\\sklearn\\svm\\_base.py:1235: ConvergenceWarning: Liblinear failed to converge, increase the number of iterations.\n",
            "  warnings.warn(\n",
            "c:\\Users\\lenovo\\anaconda3\\lib\\site-packages\\sklearn\\svm\\_base.py:1235: ConvergenceWarning: Liblinear failed to converge, increase the number of iterations.\n",
            "  warnings.warn(\n",
            "c:\\Users\\lenovo\\anaconda3\\lib\\site-packages\\sklearn\\svm\\_base.py:1235: ConvergenceWarning: Liblinear failed to converge, increase the number of iterations.\n",
            "  warnings.warn(\n",
            "c:\\Users\\lenovo\\anaconda3\\lib\\site-packages\\sklearn\\model_selection\\_validation.py:540: FitFailedWarning: \n",
            "10 fits failed out of a total of 30.\n",
            "The score on these train-test partitions for these parameters will be set to nan.\n",
            "If these failures are not expected, you can try to debug them by setting error_score='raise'.\n",
            "\n",
            "Below are more details about the failures:\n",
            "--------------------------------------------------------------------------------\n",
            "5 fits failed with the following error:\n",
            "Traceback (most recent call last):\n",
            "  File \"c:\\Users\\lenovo\\anaconda3\\lib\\site-packages\\sklearn\\model_selection\\_validation.py\", line 888, in _fit_and_score\n",
            "    estimator.fit(X_train, y_train, **fit_params)\n",
            "  File \"c:\\Users\\lenovo\\anaconda3\\lib\\site-packages\\sklearn\\base.py\", line 1473, in wrapper\n",
            "    return fit_method(estimator, *args, **kwargs)\n",
            "  File \"c:\\Users\\lenovo\\anaconda3\\lib\\site-packages\\sklearn\\linear_model\\_logistic.py\", line 1194, in fit\n",
            "    solver = _check_solver(self.solver, self.penalty, self.dual)\n",
            "  File \"c:\\Users\\lenovo\\anaconda3\\lib\\site-packages\\sklearn\\linear_model\\_logistic.py\", line 67, in _check_solver\n",
            "    raise ValueError(\n",
            "ValueError: Solver lbfgs supports only 'l2' or None penalties, got l1 penalty.\n",
            "\n",
            "--------------------------------------------------------------------------------\n",
            "5 fits failed with the following error:\n",
            "Traceback (most recent call last):\n",
            "  File \"c:\\Users\\lenovo\\anaconda3\\lib\\site-packages\\sklearn\\model_selection\\_validation.py\", line 888, in _fit_and_score\n",
            "    estimator.fit(X_train, y_train, **fit_params)\n",
            "  File \"c:\\Users\\lenovo\\anaconda3\\lib\\site-packages\\sklearn\\base.py\", line 1473, in wrapper\n",
            "    return fit_method(estimator, *args, **kwargs)\n",
            "  File \"c:\\Users\\lenovo\\anaconda3\\lib\\site-packages\\sklearn\\linear_model\\_logistic.py\", line 1194, in fit\n",
            "    solver = _check_solver(self.solver, self.penalty, self.dual)\n",
            "  File \"c:\\Users\\lenovo\\anaconda3\\lib\\site-packages\\sklearn\\linear_model\\_logistic.py\", line 67, in _check_solver\n",
            "    raise ValueError(\n",
            "ValueError: Solver newton-cholesky supports only 'l2' or None penalties, got l1 penalty.\n",
            "\n",
            "  warnings.warn(some_fits_failed_message, FitFailedWarning)\n",
            "c:\\Users\\lenovo\\anaconda3\\lib\\site-packages\\sklearn\\model_selection\\_search.py:1052: UserWarning: One or more of the test scores are non-finite: [       nan        nan 0.9616719  0.92425216 0.92421432 0.91789357]\n",
            "  warnings.warn(\n",
            "c:\\Users\\lenovo\\anaconda3\\lib\\site-packages\\sklearn\\svm\\_base.py:1235: ConvergenceWarning: Liblinear failed to converge, increase the number of iterations.\n",
            "  warnings.warn(\n"
          ]
        }
      ],
      "source": [
        "# 1.import the model from sklearn\n",
        "from sklearn.linear_model import LogisticRegression\n",
        "\n",
        "# 2.Initilize\n",
        "model = LogisticRegression(class_weight=\"balanced\",max_iter=200)\n",
        "\n",
        "# 3.train\n",
        "#model.fit(X_train_resampled,y_train_resampled)\n",
        "\n",
        "from sklearn.model_selection import GridSearchCV\n",
        "\n",
        "# Define the hyperparameter grid\n",
        "param_grid = {\n",
        "    'penalty': ['l1', 'l2'],  # Choose between L1 or L2 regularization\n",
        "     'solver':['lbfgs','newton-cholesky','liblinear'] \n",
        "}\n",
        "\n",
        "# Create the GridSearchCV object\n",
        "grid_search = GridSearchCV(model, param_grid, cv=5,scoring='f1_macro')  # 5-fold cross-validation\n",
        "\n",
        "# Fit the grid search to your training data (X_train, y_train)\n",
        "grid_search.fit(X_train_resampled,np.ravel(np.array(y_train_resampled)))\n",
        "\n",
        "# Access the best model and its parameters\n",
        "best_model = grid_search.best_estimator_\n",
        "best_params = grid_search.best_params_\n",
        "\n",
        "# Use the best model for prediction on new data\n",
        "y_pred = best_model.predict(X_test)\n"
      ]
    },
    {
      "cell_type": "code",
      "execution_count": 19,
      "metadata": {},
      "outputs": [
        {
          "name": "stdout",
          "output_type": "stream",
          "text": [
            "Best Hyperparameters: {'penalty': 'l1', 'solver': 'liblinear'}\n"
          ]
        }
      ],
      "source": [
        "# Print the best parameters found\n",
        "print(\"Best Hyperparameters:\", best_params)"
      ]
    },
    {
      "cell_type": "code",
      "execution_count": 20,
      "metadata": {},
      "outputs": [
        {
          "name": "stdout",
          "output_type": "stream",
          "text": [
            "[[10521  1046]\n",
            " [    0   143]]\n"
          ]
        },
        {
          "data": {
            "image/png": "[encoded data removed]",
            "text/plain": [
              "<Figure size 576x432 with 2 Axes>"
            ]
          },
          "metadata": {
            "needs_background": "light"
          },
          "output_type": "display_data"
        }
      ],
      "source": [
        "from sklearn.metrics import classification_report,confusion_matrix,accuracy_score,f1_score\n",
        "cm=confusion_matrix(y_test,y_pred)\n",
        "print(cm)\n",
        "\n",
        "classes = ['Non-Fraudulent', 'Fraudulent']\n",
        "\n",
        "# Create a heatmap of the confusion matrix\n",
        "plt.figure(figsize=(8, 6))\n",
        "sns.heatmap(cm, annot=True, cmap='Blues', fmt='g', xticklabels=classes, yticklabels=classes)\n",
        "plt.xlabel('Predicted Labels')\n",
        "plt.ylabel('True Labels')\n",
        "plt.title('Confusion Matrix')\n",
        "plt.show()"
      ]
    },
    {
      "cell_type": "code",
      "execution_count": 21,
      "metadata": {},
      "outputs": [
        {
          "name": "stdout",
          "output_type": "stream",
          "text": [
            "0.2147147147147147\n",
            "0.9106746370623399\n"
          ]
        }
      ],
      "source": [
        "print(f1_score(y_test,y_pred))\n",
        "print(accuracy_score(y_test,y_pred))"
      ]
    },
    {
      "cell_type": "code",
      "execution_count": 22,
      "metadata": {},
      "outputs": [
        {
          "name": "stdout",
          "output_type": "stream",
          "text": [
            "              precision    recall  f1-score   support\n",
            "\n",
            "         0.0       1.00      0.91      0.95     11567\n",
            "         1.0       0.12      1.00      0.21       143\n",
            "\n",
            "    accuracy                           0.91     11710\n",
            "   macro avg       0.56      0.95      0.58     11710\n",
            "weighted avg       0.99      0.91      0.94     11710\n",
            "\n"
          ]
        }
      ],
      "source": [
        "print(classification_report(y_test,y_pred))"
      ]
    }
  ],
  "metadata": {
    "colab": {
      "name": "pca-step-by-step.ipynb",
      "provenance": []
    },
    "kernelspec": {
      "display_name": "Python 3",
      "name": "python3"
    },
    "language_info": {
      "codemirror_mode": {
        "name": "ipython",
        "version": 3
      },
      "file_extension": ".py",
      "mimetype": "text/x-python",
      "name": "python",
      "nbconvert_exporter": "python",
      "pygments_lexer": "ipython3",
      "version": "3.9.7"
    }
  },
  "nbformat": 4,
  "nbformat_minor": 0
}
